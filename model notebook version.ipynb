{
 "cells": [
  {
   "cell_type": "code",
   "execution_count": 1,
   "id": "7fe6e559",
   "metadata": {},
   "outputs": [],
   "source": [
    "import pandas as pd\n"
   ]
  },
  {
   "cell_type": "code",
   "execution_count": null,
   "id": "ee24fb1f",
   "metadata": {},
   "outputs": [],
   "source": [
    "class isLeg(): \n",
    "    default_features = [\"base_egg_steps\",\"base_happiness\",\"base_total\",\"sp_attack\"]\n",
    "    def __init__(self, data, feature = default_features): \n",
    "        print(\"hello world\")\n",
    "        self.data = data\n",
    "        self.feature = feature\n",
    "    \n",
    "        \n",
    "        "
   ]
  }
 ],
 "metadata": {
  "kernelspec": {
   "display_name": "Python 3 (ipykernel)",
   "language": "python",
   "name": "python3"
  },
  "language_info": {
   "codemirror_mode": {
    "name": "ipython",
    "version": 3
   },
   "file_extension": ".py",
   "mimetype": "text/x-python",
   "name": "python",
   "nbconvert_exporter": "python",
   "pygments_lexer": "ipython3",
   "version": "3.9.13"
  }
 },
 "nbformat": 4,
 "nbformat_minor": 5
}
