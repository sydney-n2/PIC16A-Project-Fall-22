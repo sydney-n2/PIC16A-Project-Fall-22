{
 "cells": [
  {
   "cell_type": "code",
   "execution_count": 90,
   "metadata": {},
   "outputs": [],
   "source": [
    "import pandas as pd\n",
    "import numpy as np\n",
    "import matplotlib.pyplot as plt\n",
    "from sklearn.model_selection import train_test_split\n",
    "from sklearn.preprocessing import LabelEncoder\n",
    "from sklearn import tree\n",
    "\n",
    "# ignore some useless warnings which makes things ugly:\n",
    "# import warnings\n",
    "# from pandas.core.common import SettingWithCopyWarning\n",
    "# warnings.simplefilter(action=\"ignore\", category=SettingWithCopyWarning)"
   ]
  },
  {
   "cell_type": "code",
   "execution_count": 91,
   "metadata": {},
   "outputs": [],
   "source": [
    "class PokemonSet(): \n",
    "    \n",
    "    default_features = [\"base_egg_steps\",\"base_happiness\",\"base_total\",\"sp_attack\"]\n",
    "    \n",
    "    def __init__(self, data, feature = default_features): \n",
    "        for f in feature:\n",
    "            if type(f) not in [str]:\n",
    "                raise TypeError(f\"Each feature should be a string, but a {type(f)} is passed.\")\n",
    "        feature.append('is_legendary')  # add the label (is_legendary) to the data, in addition to the features\n",
    "        self.feature = feature\n",
    "        try:\n",
    "            self.data = data[feature]\n",
    "        except:\n",
    "            raise ValueError(\"Invalid feature is passed to the function\")\n",
    "            \n",
    "    def clean_data(self):\n",
    "        '''\n",
    "            Label-encode the string features\n",
    "            Convert NaN or non-numeric values in numeric features to the mean value of that feature\n",
    "        Args:\n",
    "            None\n",
    "        Returns:\n",
    "            None\n",
    "        '''\n",
    "        str_feature = ['abilities', 'classfication', 'japanese_name', 'name', 'type1', 'type2']\n",
    "        for sf in str_feature:\n",
    "            if sf in self.feature:\n",
    "                LE = LabelEncoder()\n",
    "                self.data[sf] = LE.fit_transform(self.data[sf])\n",
    "        for f in self.feature:\n",
    "            # convert non-numeric values to NaN\n",
    "            for i in range(len(self.data[f])):\n",
    "                try:\n",
    "                    self.data[f][i] = float(self.data[f][i])\n",
    "                except:\n",
    "                    self.data[f][i] = np.nan\n",
    "            # convert all NaN to mean of that feature\n",
    "            for i in range(len(self.data[f])):\n",
    "                if np.isnan(self.data[f][i]):\n",
    "                    self.data[f][i] = float(np.nanmean(self.data[f],dtype='float64'))\n",
    "            # ensure dtype of DataFrame to be float\n",
    "            self.data[f] = self.data[f].astype('float64')\n",
    "    \n",
    "    def corr(self, absolute=True, plot=True, clim=[0,1]): \n",
    "        '''\n",
    "            Get the correlation matrix between different features\n",
    "        Kwargs:\n",
    "            absolute (bool): default=True. Returning the absolute-value correlation matrix\n",
    "            plot (bool): default=True. Plot the matrix\n",
    "            clim ([cMin, cMax]): default=[0,1]. The range of colorbar\n",
    "        Returns:\n",
    "            corr_matrix (pd.DataFrame): The correlation matrix\n",
    "        ''' \n",
    "        corr_matrix = self.data.corr(method='spearman')\n",
    "        if absolute:\n",
    "            corr_matrix = np.abs(corr_matrix)\n",
    "        if plot:\n",
    "            plt.figure(figsize=(10,10))\n",
    "            plt.imshow(corr_matrix,cmap='Blues')\n",
    "            plt.title(\"Correlation Matrix for Pokemon Dataset\")\n",
    "            plt.xticks(np.arange(len(self.feature)),self.feature,rotation=45)\n",
    "            plt.yticks(np.arange(len(self.feature)),self.feature,rotation=45)\n",
    "            plt.clim(clim)\n",
    "            plt.colorbar()\n",
    "            plt.show()\n",
    "        return corr_matrix\n",
    "        \n",
    "   \n",
    "    def split(self, test_size=0.3, random_state=42): \n",
    "        '''\n",
    "            Split the dataset into train and test sets.\n",
    "        Kwargs:\n",
    "            test_size (float): the size of test set\n",
    "            random_state (int): the random seed for random splitting\n",
    "        Returns:\n",
    "            X_train(pd.DataFrame): the features for train set\n",
    "            X_test(pd.DataFrame): the features for test set\n",
    "            y_train(pd.Series): the labels for train set\n",
    "            y_test(pd.Series): the labels for test set\n",
    "        '''\n",
    "        X = self.data[self.feature[:-1]] # features\n",
    "        y = self.data[self.feature[-1]]  # labels (is_legendary)\n",
    "        X_train, X_test, y_train, y_test = train_test_split(X, y, test_size=test_size, random_state=random_state)\n",
    "        return X_train, X_test, y_train, y_test\n",
    "    \n",
    "    # put fit_tree here\n",
    "    def fit_tree(self, X, y, d):\n",
    "        '''\n",
    "        insert a docstring here\n",
    "        '''\n",
    "        model_tree = tree.DecisionTreeClassifier(max_depth = d)\n",
    "        model_tree.fit(X,y)\n",
    "        return model_tree\n",
    "\n",
    "    def make_decision_tree_model(self, depth=None):\n",
    "        '''\n",
    "            create a model decision tree for dataset\n",
    "        Args:\n",
    "            self:\n",
    "        Returns:\n",
    "            model_tree: a tree.DecisionTreeClassifier \n",
    "        '''\n",
    "        X_train, X_test, y_train, y_test = self.split()\n",
    "\n",
    "        if depth is None:\n",
    "            # TODO: Implement multiple depth testing\n",
    "\n",
    "            selected_depth = best_depth\n",
    "        else:\n",
    "            selected_depth = depth\n",
    "\n",
    "        print(f\"Using depth {selected_depth}\")\n",
    "        model_tree = self.fit_tree(X_train, y_train, selected_depth)\n",
    "\n",
    "        # score model on testing data and print it out \n",
    "        print(f\"Score on testing data : {model_tree.score(X_test, y_test)}\")\n",
    "\n",
    "        return model_tree\n",
    "    \n",
    "\n"
   ]
  },
  {
   "cell_type": "code",
   "execution_count": 92,
   "metadata": {},
   "outputs": [],
   "source": [
    "df = pd.read_csv(\"pokemon.csv\") "
   ]
  },
  {
   "cell_type": "code",
   "execution_count": 93,
   "metadata": {},
   "outputs": [],
   "source": [
    "ps = PokemonSet(data = df,feature = [\"base_egg_steps\",\"base_happiness\",\"base_total\",\"sp_attack\",\"capture_rate\"])"
   ]
  },
  {
   "cell_type": "code",
   "execution_count": 94,
   "metadata": {},
   "outputs": [
    {
     "data": {
      "text/html": [
       "<div>\n",
       "<style scoped>\n",
       "    .dataframe tbody tr th:only-of-type {\n",
       "        vertical-align: middle;\n",
       "    }\n",
       "\n",
       "    .dataframe tbody tr th {\n",
       "        vertical-align: top;\n",
       "    }\n",
       "\n",
       "    .dataframe thead th {\n",
       "        text-align: right;\n",
       "    }\n",
       "</style>\n",
       "<table border=\"1\" class=\"dataframe\">\n",
       "  <thead>\n",
       "    <tr style=\"text-align: right;\">\n",
       "      <th></th>\n",
       "      <th>base_egg_steps</th>\n",
       "      <th>base_happiness</th>\n",
       "      <th>base_total</th>\n",
       "      <th>sp_attack</th>\n",
       "      <th>capture_rate</th>\n",
       "      <th>is_legendary</th>\n",
       "    </tr>\n",
       "  </thead>\n",
       "  <tbody>\n",
       "    <tr>\n",
       "      <th>0</th>\n",
       "      <td>5120</td>\n",
       "      <td>70</td>\n",
       "      <td>318</td>\n",
       "      <td>65</td>\n",
       "      <td>45</td>\n",
       "      <td>0</td>\n",
       "    </tr>\n",
       "    <tr>\n",
       "      <th>1</th>\n",
       "      <td>5120</td>\n",
       "      <td>70</td>\n",
       "      <td>405</td>\n",
       "      <td>80</td>\n",
       "      <td>45</td>\n",
       "      <td>0</td>\n",
       "    </tr>\n",
       "    <tr>\n",
       "      <th>2</th>\n",
       "      <td>5120</td>\n",
       "      <td>70</td>\n",
       "      <td>625</td>\n",
       "      <td>122</td>\n",
       "      <td>45</td>\n",
       "      <td>0</td>\n",
       "    </tr>\n",
       "    <tr>\n",
       "      <th>3</th>\n",
       "      <td>5120</td>\n",
       "      <td>70</td>\n",
       "      <td>309</td>\n",
       "      <td>60</td>\n",
       "      <td>45</td>\n",
       "      <td>0</td>\n",
       "    </tr>\n",
       "    <tr>\n",
       "      <th>4</th>\n",
       "      <td>5120</td>\n",
       "      <td>70</td>\n",
       "      <td>405</td>\n",
       "      <td>80</td>\n",
       "      <td>45</td>\n",
       "      <td>0</td>\n",
       "    </tr>\n",
       "    <tr>\n",
       "      <th>...</th>\n",
       "      <td>...</td>\n",
       "      <td>...</td>\n",
       "      <td>...</td>\n",
       "      <td>...</td>\n",
       "      <td>...</td>\n",
       "      <td>...</td>\n",
       "    </tr>\n",
       "    <tr>\n",
       "      <th>796</th>\n",
       "      <td>30720</td>\n",
       "      <td>0</td>\n",
       "      <td>570</td>\n",
       "      <td>107</td>\n",
       "      <td>25</td>\n",
       "      <td>1</td>\n",
       "    </tr>\n",
       "    <tr>\n",
       "      <th>797</th>\n",
       "      <td>30720</td>\n",
       "      <td>0</td>\n",
       "      <td>570</td>\n",
       "      <td>59</td>\n",
       "      <td>255</td>\n",
       "      <td>1</td>\n",
       "    </tr>\n",
       "    <tr>\n",
       "      <th>798</th>\n",
       "      <td>30720</td>\n",
       "      <td>0</td>\n",
       "      <td>570</td>\n",
       "      <td>97</td>\n",
       "      <td>15</td>\n",
       "      <td>1</td>\n",
       "    </tr>\n",
       "    <tr>\n",
       "      <th>799</th>\n",
       "      <td>30720</td>\n",
       "      <td>0</td>\n",
       "      <td>600</td>\n",
       "      <td>127</td>\n",
       "      <td>3</td>\n",
       "      <td>1</td>\n",
       "    </tr>\n",
       "    <tr>\n",
       "      <th>800</th>\n",
       "      <td>30720</td>\n",
       "      <td>0</td>\n",
       "      <td>600</td>\n",
       "      <td>130</td>\n",
       "      <td>3</td>\n",
       "      <td>1</td>\n",
       "    </tr>\n",
       "  </tbody>\n",
       "</table>\n",
       "<p>801 rows × 6 columns</p>\n",
       "</div>"
      ],
      "text/plain": [
       "     base_egg_steps  base_happiness  base_total  sp_attack capture_rate  \\\n",
       "0              5120              70         318         65           45   \n",
       "1              5120              70         405         80           45   \n",
       "2              5120              70         625        122           45   \n",
       "3              5120              70         309         60           45   \n",
       "4              5120              70         405         80           45   \n",
       "..              ...             ...         ...        ...          ...   \n",
       "796           30720               0         570        107           25   \n",
       "797           30720               0         570         59          255   \n",
       "798           30720               0         570         97           15   \n",
       "799           30720               0         600        127            3   \n",
       "800           30720               0         600        130            3   \n",
       "\n",
       "     is_legendary  \n",
       "0               0  \n",
       "1               0  \n",
       "2               0  \n",
       "3               0  \n",
       "4               0  \n",
       "..            ...  \n",
       "796             1  \n",
       "797             1  \n",
       "798             1  \n",
       "799             1  \n",
       "800             1  \n",
       "\n",
       "[801 rows x 6 columns]"
      ]
     },
     "execution_count": 94,
     "metadata": {},
     "output_type": "execute_result"
    }
   ],
   "source": [
    "ps.data"
   ]
  },
  {
   "cell_type": "code",
   "execution_count": 95,
   "metadata": {},
   "outputs": [
    {
     "name": "stderr",
     "output_type": "stream",
     "text": [
      "/var/folders/tk/sqvk3bjs5hsf4cnvp3fq_ly40000gn/T/ipykernel_92076/1869657454.py:34: SettingWithCopyWarning: \n",
      "A value is trying to be set on a copy of a slice from a DataFrame\n",
      "\n",
      "See the caveats in the documentation: https://pandas.pydata.org/pandas-docs/stable/user_guide/indexing.html#returning-a-view-versus-a-copy\n",
      "  self.data[f][i] = float(self.data[f][i])\n",
      "/var/folders/tk/sqvk3bjs5hsf4cnvp3fq_ly40000gn/T/ipykernel_92076/1869657454.py:42: SettingWithCopyWarning: \n",
      "A value is trying to be set on a copy of a slice from a DataFrame.\n",
      "Try using .loc[row_indexer,col_indexer] = value instead\n",
      "\n",
      "See the caveats in the documentation: https://pandas.pydata.org/pandas-docs/stable/user_guide/indexing.html#returning-a-view-versus-a-copy\n",
      "  self.data[f] = self.data[f].astype('float64')\n",
      "/var/folders/tk/sqvk3bjs5hsf4cnvp3fq_ly40000gn/T/ipykernel_92076/1869657454.py:36: SettingWithCopyWarning: \n",
      "A value is trying to be set on a copy of a slice from a DataFrame\n",
      "\n",
      "See the caveats in the documentation: https://pandas.pydata.org/pandas-docs/stable/user_guide/indexing.html#returning-a-view-versus-a-copy\n",
      "  self.data[f][i] = np.nan\n",
      "/var/folders/tk/sqvk3bjs5hsf4cnvp3fq_ly40000gn/T/ipykernel_92076/1869657454.py:40: SettingWithCopyWarning: \n",
      "A value is trying to be set on a copy of a slice from a DataFrame\n",
      "\n",
      "See the caveats in the documentation: https://pandas.pydata.org/pandas-docs/stable/user_guide/indexing.html#returning-a-view-versus-a-copy\n",
      "  self.data[f][i] = float(np.nanmean(self.data[f],dtype='float64'))\n"
     ]
    }
   ],
   "source": [
    "ps.clean_data()"
   ]
  },
  {
   "cell_type": "code",
   "execution_count": 96,
   "metadata": {},
   "outputs": [
    {
     "data": {
      "text/plain": [
       "base_egg_steps    6400.00000\n",
       "base_happiness      70.00000\n",
       "base_total         500.00000\n",
       "sp_attack          100.00000\n",
       "capture_rate        98.76125\n",
       "is_legendary         0.00000\n",
       "Name: 773, dtype: float64"
      ]
     },
     "execution_count": 96,
     "metadata": {},
     "output_type": "execute_result"
    }
   ],
   "source": [
    "# the previous bad capture_rate data \n",
    "ps.data.iloc[773]"
   ]
  },
  {
   "cell_type": "code",
   "execution_count": 97,
   "metadata": {},
   "outputs": [
    {
     "data": {
      "image/png": "[encoded data removed]",
      "text/plain": [
       "<Figure size 1000x1000 with 2 Axes>"
      ]
     },
     "metadata": {},
     "output_type": "display_data"
    }
   ],
   "source": [
    "cc = ps.corr()"
   ]
  },
  {
   "cell_type": "code",
   "execution_count": 98,
   "metadata": {},
   "outputs": [],
   "source": [
    "X_train, X_test, y_train, y_test = ps.split()"
   ]
  },
  {
   "cell_type": "code",
   "execution_count": 99,
   "metadata": {},
   "outputs": [
    {
     "data": {
      "text/html": [
       "<div>\n",
       "<style scoped>\n",
       "    .dataframe tbody tr th:only-of-type {\n",
       "        vertical-align: middle;\n",
       "    }\n",
       "\n",
       "    .dataframe tbody tr th {\n",
       "        vertical-align: top;\n",
       "    }\n",
       "\n",
       "    .dataframe thead th {\n",
       "        text-align: right;\n",
       "    }\n",
       "</style>\n",
       "<table border=\"1\" class=\"dataframe\">\n",
       "  <thead>\n",
       "    <tr style=\"text-align: right;\">\n",
       "      <th></th>\n",
       "      <th>base_egg_steps</th>\n",
       "      <th>base_happiness</th>\n",
       "      <th>base_total</th>\n",
       "      <th>sp_attack</th>\n",
       "      <th>capture_rate</th>\n",
       "    </tr>\n",
       "  </thead>\n",
       "  <tbody>\n",
       "    <tr>\n",
       "      <th>523</th>\n",
       "      <td>3840.0</td>\n",
       "      <td>70.0</td>\n",
       "      <td>280.0</td>\n",
       "      <td>25.0</td>\n",
       "      <td>255.0</td>\n",
       "    </tr>\n",
       "    <tr>\n",
       "      <th>750</th>\n",
       "      <td>3840.0</td>\n",
       "      <td>70.0</td>\n",
       "      <td>269.0</td>\n",
       "      <td>40.0</td>\n",
       "      <td>200.0</td>\n",
       "    </tr>\n",
       "    <tr>\n",
       "      <th>426</th>\n",
       "      <td>5120.0</td>\n",
       "      <td>0.0</td>\n",
       "      <td>350.0</td>\n",
       "      <td>44.0</td>\n",
       "      <td>190.0</td>\n",
       "    </tr>\n",
       "    <tr>\n",
       "      <th>41</th>\n",
       "      <td>3840.0</td>\n",
       "      <td>70.0</td>\n",
       "      <td>455.0</td>\n",
       "      <td>65.0</td>\n",
       "      <td>90.0</td>\n",
       "    </tr>\n",
       "    <tr>\n",
       "      <th>495</th>\n",
       "      <td>5120.0</td>\n",
       "      <td>70.0</td>\n",
       "      <td>413.0</td>\n",
       "      <td>60.0</td>\n",
       "      <td>45.0</td>\n",
       "    </tr>\n",
       "    <tr>\n",
       "      <th>...</th>\n",
       "      <td>...</td>\n",
       "      <td>...</td>\n",
       "      <td>...</td>\n",
       "      <td>...</td>\n",
       "      <td>...</td>\n",
       "    </tr>\n",
       "    <tr>\n",
       "      <th>71</th>\n",
       "      <td>5120.0</td>\n",
       "      <td>70.0</td>\n",
       "      <td>335.0</td>\n",
       "      <td>50.0</td>\n",
       "      <td>190.0</td>\n",
       "    </tr>\n",
       "    <tr>\n",
       "      <th>106</th>\n",
       "      <td>6400.0</td>\n",
       "      <td>70.0</td>\n",
       "      <td>455.0</td>\n",
       "      <td>35.0</td>\n",
       "      <td>45.0</td>\n",
       "    </tr>\n",
       "    <tr>\n",
       "      <th>270</th>\n",
       "      <td>3840.0</td>\n",
       "      <td>70.0</td>\n",
       "      <td>340.0</td>\n",
       "      <td>60.0</td>\n",
       "      <td>120.0</td>\n",
       "    </tr>\n",
       "    <tr>\n",
       "      <th>435</th>\n",
       "      <td>5120.0</td>\n",
       "      <td>70.0</td>\n",
       "      <td>300.0</td>\n",
       "      <td>24.0</td>\n",
       "      <td>255.0</td>\n",
       "    </tr>\n",
       "    <tr>\n",
       "      <th>102</th>\n",
       "      <td>5120.0</td>\n",
       "      <td>70.0</td>\n",
       "      <td>530.0</td>\n",
       "      <td>125.0</td>\n",
       "      <td>45.0</td>\n",
       "    </tr>\n",
       "  </tbody>\n",
       "</table>\n",
       "<p>560 rows × 5 columns</p>\n",
       "</div>"
      ],
      "text/plain": [
       "     base_egg_steps  base_happiness  base_total  sp_attack  capture_rate\n",
       "523          3840.0            70.0       280.0       25.0         255.0\n",
       "750          3840.0            70.0       269.0       40.0         200.0\n",
       "426          5120.0             0.0       350.0       44.0         190.0\n",
       "41           3840.0            70.0       455.0       65.0          90.0\n",
       "495          5120.0            70.0       413.0       60.0          45.0\n",
       "..              ...             ...         ...        ...           ...\n",
       "71           5120.0            70.0       335.0       50.0         190.0\n",
       "106          6400.0            70.0       455.0       35.0          45.0\n",
       "270          3840.0            70.0       340.0       60.0         120.0\n",
       "435          5120.0            70.0       300.0       24.0         255.0\n",
       "102          5120.0            70.0       530.0      125.0          45.0\n",
       "\n",
       "[560 rows x 5 columns]"
      ]
     },
     "execution_count": 99,
     "metadata": {},
     "output_type": "execute_result"
    }
   ],
   "source": [
    "X_train"
   ]
  },
  {
   "cell_type": "code",
   "execution_count": 100,
   "metadata": {},
   "outputs": [
    {
     "data": {
      "text/plain": [
       "523    0.0\n",
       "750    0.0\n",
       "426    0.0\n",
       "41     0.0\n",
       "495    0.0\n",
       "      ... \n",
       "71     0.0\n",
       "106    0.0\n",
       "270    0.0\n",
       "435    0.0\n",
       "102    0.0\n",
       "Name: is_legendary, Length: 560, dtype: float64"
      ]
     },
     "execution_count": 100,
     "metadata": {},
     "output_type": "execute_result"
    }
   ],
   "source": [
    "y_train"
   ]
  },
  {
   "cell_type": "code",
   "execution_count": 101,
   "id": "d59dae1f",
   "metadata": {},
   "outputs": [
    {
     "name": "stdout",
     "output_type": "stream",
     "text": [
      "Using depth 3\n",
      "Score on testing data : 0.995850622406639\n",
      "DecisionTreeClassifier(max_depth=3)\n"
     ]
    }
   ],
   "source": [
    "model = ps.make_decision_tree_model()\n",
    "print(model)"
   ]
  },
  {
   "cell_type": "code",
   "execution_count": 102,
   "id": "8b67c6e2",
   "metadata": {},
   "outputs": [
    {
     "data": {
      "text/plain": [
       "[Text(0.4583333333333333, 0.875, 'X[0] <= 15360.0\\ngini = 0.148\\nsamples = 560\\nvalue = [515, 45]'),\n",
       " Text(0.25, 0.625, 'X[4] <= 14.0\\ngini = 0.019\\nsamples = 518\\nvalue = [513, 5]'),\n",
       " Text(0.16666666666666666, 0.375, 'X[2] <= 495.0\\ngini = 0.408\\nsamples = 7\\nvalue = [2, 5]'),\n",
       " Text(0.08333333333333333, 0.125, 'gini = 0.0\\nsamples = 2\\nvalue = [2, 0]'),\n",
       " Text(0.25, 0.125, 'gini = 0.0\\nsamples = 5\\nvalue = [0, 5]'),\n",
       " Text(0.3333333333333333, 0.375, 'gini = 0.0\\nsamples = 511\\nvalue = [511, 0]'),\n",
       " Text(0.6666666666666666, 0.625, 'X[2] <= 552.0\\ngini = 0.091\\nsamples = 42\\nvalue = [2, 40]'),\n",
       " Text(0.5, 0.375, 'X[4] <= 24.0\\ngini = 0.5\\nsamples = 2\\nvalue = [1, 1]'),\n",
       " Text(0.4166666666666667, 0.125, 'gini = 0.0\\nsamples = 1\\nvalue = [1, 0]'),\n",
       " Text(0.5833333333333334, 0.125, 'gini = 0.0\\nsamples = 1\\nvalue = [0, 1]'),\n",
       " Text(0.8333333333333334, 0.375, 'X[2] <= 575.0\\ngini = 0.049\\nsamples = 40\\nvalue = [1, 39]'),\n",
       " Text(0.75, 0.125, 'gini = 0.278\\nsamples = 6\\nvalue = [1, 5]'),\n",
       " Text(0.9166666666666666, 0.125, 'gini = 0.0\\nsamples = 34\\nvalue = [0, 34]')]"
      ]
     },
     "execution_count": 102,
     "metadata": {},
     "output_type": "execute_result"
    },
    {
     "data": {
      "image/png": "[encoded data removed]",
      "text/plain": [
       "<Figure size 640x480 with 1 Axes>"
      ]
     },
     "metadata": {},
     "output_type": "display_data"
    }
   ],
   "source": [
    "tree.plot_tree(model)"
   ]
  },
  {
   "cell_type": "code",
   "execution_count": 103,
   "id": "b28d8fe0",
   "metadata": {},
   "outputs": [
    {
     "name": "stdout",
     "output_type": "stream",
     "text": [
      "Predictions: \n",
      "[0. 0. 0. 0. 0. 0. 0. 0. 0. 1.]\n",
      "Actual: \n",
      "523    0.0\n",
      "750    0.0\n",
      "426    0.0\n",
      "41     0.0\n",
      "495    0.0\n",
      "108    0.0\n",
      "344    0.0\n",
      "56     0.0\n",
      "259    0.0\n",
      "479    1.0\n",
      "Name: is_legendary, dtype: float64\n"
     ]
    }
   ],
   "source": [
    "print(\"Predictions: \")\n",
    "print(model.predict(X_train.iloc[0:10]))\n",
    "print(\"Actual: \")\n",
    "print(y_train.iloc[0:10])\n",
    "\n",
    "# print(ps.data.iloc[0])\n",
    "# print(X_train.shape)"
   ]
  },
  {
   "cell_type": "code",
   "execution_count": 111,
   "id": "2f309676",
   "metadata": {},
   "outputs": [
    {
     "name": "stdout",
     "output_type": "stream",
     "text": [
      "[0.]\n",
      "base_egg_steps    3840.0\n",
      "base_happiness      70.0\n",
      "base_total         280.0\n",
      "sp_attack           25.0\n",
      "capture_rate       255.0\n",
      "Name: 523, dtype: float64\n",
      "[[3840.0, 70.0, 280.0, 25.0, 255.0]]\n"
     ]
    },
    {
     "name": "stderr",
     "output_type": "stream",
     "text": [
      "/Users/christinek/Library/Python/3.9/lib/python/site-packages/sklearn/base.py:450: UserWarning: X does not have valid feature names, but DecisionTreeClassifier was fitted with feature names\n",
      "  warnings.warn(\n"
     ]
    }
   ],
   "source": [
    "print(model.predict([list(X_train.iloc[0])]))\n",
    "print(X_train.iloc[0])\n",
    "print([list(X_train.iloc[0])])"
   ]
  },
  {
   "cell_type": "code",
   "execution_count": null,
   "id": "8e4bb8cc",
   "metadata": {},
   "outputs": [],
   "source": []
  }
 ],
 "metadata": {
  "kernelspec": {
   "display_name": "Python 3.9.6 64-bit",
   "language": "python",
   "name": "python3"
  },
  "language_info": {
   "codemirror_mode": {
    "name": "ipython",
    "version": 3
   },
   "file_extension": ".py",
   "mimetype": "text/x-python",
   "name": "python",
   "nbconvert_exporter": "python",
   "pygments_lexer": "ipython3",
   "version": "3.9.6"
  },
  "vscode": {
   "interpreter": {
    "hash": "31f2aee4e71d21fbe5cf8b01ff0e069b9275f58929596ceb00d14d90e3e16cd6"
   }
  }
 },
 "nbformat": 4,
 "nbformat_minor": 5
}
